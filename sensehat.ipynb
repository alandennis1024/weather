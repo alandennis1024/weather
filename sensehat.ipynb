{
 "cells": [
  {
   "cell_type": "code",
   "execution_count": 2,
   "id": "952706f2",
   "metadata": {
    "ExecuteTime": {
     "end_time": "2022-04-14T15:33:16.176654Z",
     "start_time": "2022-04-14T15:33:11.577863Z"
    }
   },
   "outputs": [
    {
     "name": "stdout",
     "output_type": "stream",
     "text": [
      "Collecting Sense-Hat\n",
      "  Downloading sense_hat-2.2.0-py2.py3-none-any.whl (15 kB)\n",
      "Requirement already satisfied: pillow in c:\\users\\aland\\anaconda3\\envs\\pythonandr\\lib\\site-packages (from Sense-Hat) (8.2.0)\n",
      "Requirement already satisfied: numpy in c:\\users\\aland\\anaconda3\\envs\\pythonandr\\lib\\site-packages (from Sense-Hat) (1.22.1)\n",
      "Installing collected packages: Sense-Hat\n",
      "Successfully installed Sense-Hat-2.2.0\n",
      "Note: you may need to restart the kernel to use updated packages.\n"
     ]
    }
   ],
   "source": [
    "#pip install Sense-Hat"
   ]
  },
  {
   "cell_type": "code",
   "execution_count": 2,
   "id": "f851da15",
   "metadata": {
    "ExecuteTime": {
     "end_time": "2022-04-13T22:04:04.625727Z",
     "start_time": "2022-04-13T22:04:04.611726Z"
    }
   },
   "outputs": [],
   "source": [
    "# pip install speedtest-cli"
   ]
  },
  {
   "cell_type": "code",
   "execution_count": 3,
   "id": "491ef261",
   "metadata": {
    "ExecuteTime": {
     "end_time": "2022-04-14T15:33:25.258149Z",
     "start_time": "2022-04-14T15:33:25.245150Z"
    }
   },
   "outputs": [],
   "source": [
    "filename = \"speeds.csv\""
   ]
  },
  {
   "cell_type": "code",
   "execution_count": 4,
   "id": "12ce34ac",
   "metadata": {
    "ExecuteTime": {
     "end_time": "2022-04-14T15:33:26.591071Z",
     "start_time": "2022-04-14T15:33:26.552044Z"
    }
   },
   "outputs": [],
   "source": [
    "import os\n",
    "import speedtest "
   ]
  },
  {
   "cell_type": "code",
   "execution_count": 5,
   "id": "d87e7ae1",
   "metadata": {
    "ExecuteTime": {
     "end_time": "2022-04-14T15:33:27.009044Z",
     "start_time": "2022-04-14T15:33:27.005044Z"
    }
   },
   "outputs": [],
   "source": [
    "import datetime\n",
    "import time"
   ]
  },
  {
   "cell_type": "code",
   "execution_count": 6,
   "id": "543fd9fe",
   "metadata": {
    "ExecuteTime": {
     "end_time": "2022-04-14T15:33:27.489494Z",
     "start_time": "2022-04-14T15:33:27.356493Z"
    }
   },
   "outputs": [],
   "source": [
    "import socket\n",
    "import requests\n",
    "import json"
   ]
  },
  {
   "cell_type": "code",
   "execution_count": 7,
   "id": "a6ae4ab6",
   "metadata": {
    "ExecuteTime": {
     "end_time": "2022-04-14T15:33:27.755458Z",
     "start_time": "2022-04-14T15:33:27.748463Z"
    }
   },
   "outputs": [],
   "source": [
    "import platform\n",
    "import socket\n",
    "import uuid"
   ]
  },
  {
   "cell_type": "code",
   "execution_count": 9,
   "id": "e98052c7",
   "metadata": {
    "ExecuteTime": {
     "end_time": "2022-04-14T15:33:44.023209Z",
     "start_time": "2022-04-14T15:33:44.007333Z"
    }
   },
   "outputs": [
    {
     "ename": "ModuleNotFoundError",
     "evalue": "No module named 'RTIMU'",
     "output_type": "error",
     "traceback": [
      "\u001b[1;31m---------------------------------------------------------------------------\u001b[0m",
      "\u001b[1;31mModuleNotFoundError\u001b[0m                       Traceback (most recent call last)",
      "\u001b[1;32m<ipython-input-9-5c9430a2e9bc>\u001b[0m in \u001b[0;36m<module>\u001b[1;34m\u001b[0m\n\u001b[1;32m----> 1\u001b[1;33m \u001b[1;32mfrom\u001b[0m \u001b[0msense_hat\u001b[0m \u001b[1;32mimport\u001b[0m \u001b[0mSenseHat\u001b[0m\u001b[1;33m\u001b[0m\u001b[1;33m\u001b[0m\u001b[0m\n\u001b[0m",
      "\u001b[1;32m~\\anaconda3\\envs\\PythonAndR\\lib\\site-packages\\sense_hat\\__init__.py\u001b[0m in \u001b[0;36m<module>\u001b[1;34m\u001b[0m\n\u001b[0;32m      1\u001b[0m \u001b[1;32mfrom\u001b[0m \u001b[0m__future__\u001b[0m \u001b[1;32mimport\u001b[0m \u001b[0mabsolute_import\u001b[0m\u001b[1;33m\u001b[0m\u001b[1;33m\u001b[0m\u001b[0m\n\u001b[1;32m----> 2\u001b[1;33m \u001b[1;32mfrom\u001b[0m \u001b[1;33m.\u001b[0m\u001b[0msense_hat\u001b[0m \u001b[1;32mimport\u001b[0m \u001b[0mSenseHat\u001b[0m\u001b[1;33m,\u001b[0m \u001b[0mSenseHat\u001b[0m \u001b[1;32mas\u001b[0m \u001b[0mAstroPi\u001b[0m\u001b[1;33m\u001b[0m\u001b[1;33m\u001b[0m\u001b[0m\n\u001b[0m\u001b[0;32m      3\u001b[0m from .stick import (\n\u001b[0;32m      4\u001b[0m     \u001b[0mSenseStick\u001b[0m\u001b[1;33m,\u001b[0m\u001b[1;33m\u001b[0m\u001b[1;33m\u001b[0m\u001b[0m\n\u001b[0;32m      5\u001b[0m     \u001b[0mInputEvent\u001b[0m\u001b[1;33m,\u001b[0m\u001b[1;33m\u001b[0m\u001b[1;33m\u001b[0m\u001b[0m\n",
      "\u001b[1;32m~\\anaconda3\\envs\\PythonAndR\\lib\\site-packages\\sense_hat\\sense_hat.py\u001b[0m in \u001b[0;36m<module>\u001b[1;34m\u001b[0m\n\u001b[0;32m      8\u001b[0m \u001b[1;32mimport\u001b[0m \u001b[0mshutil\u001b[0m\u001b[1;33m\u001b[0m\u001b[1;33m\u001b[0m\u001b[0m\n\u001b[0;32m      9\u001b[0m \u001b[1;32mimport\u001b[0m \u001b[0mglob\u001b[0m\u001b[1;33m\u001b[0m\u001b[1;33m\u001b[0m\u001b[0m\n\u001b[1;32m---> 10\u001b[1;33m \u001b[1;32mimport\u001b[0m \u001b[0mRTIMU\u001b[0m  \u001b[1;31m# custom version\u001b[0m\u001b[1;33m\u001b[0m\u001b[1;33m\u001b[0m\u001b[0m\n\u001b[0m\u001b[0;32m     11\u001b[0m \u001b[1;32mimport\u001b[0m \u001b[0mpwd\u001b[0m\u001b[1;33m\u001b[0m\u001b[1;33m\u001b[0m\u001b[0m\n\u001b[0;32m     12\u001b[0m \u001b[1;32mimport\u001b[0m \u001b[0marray\u001b[0m\u001b[1;33m\u001b[0m\u001b[1;33m\u001b[0m\u001b[0m\n",
      "\u001b[1;31mModuleNotFoundError\u001b[0m: No module named 'RTIMU'"
     ]
    }
   ],
   "source": [
    "from sense_hat import SenseHat"
   ]
  },
  {
   "cell_type": "code",
   "execution_count": 8,
   "id": "70dc7174",
   "metadata": {
    "ExecuteTime": {
     "end_time": "2022-04-14T15:33:28.918459Z",
     "start_time": "2022-04-14T15:33:28.717471Z"
    }
   },
   "outputs": [
    {
     "ename": "ModuleNotFoundError",
     "evalue": "No module named 'RTIMU'",
     "output_type": "error",
     "traceback": [
      "\u001b[1;31m---------------------------------------------------------------------------\u001b[0m",
      "\u001b[1;31mModuleNotFoundError\u001b[0m                       Traceback (most recent call last)",
      "\u001b[1;32m<ipython-input-8-ecb9f9b1540a>\u001b[0m in \u001b[0;36m<module>\u001b[1;34m\u001b[0m\n\u001b[1;32m----> 1\u001b[1;33m \u001b[1;32mfrom\u001b[0m \u001b[0msense_hat\u001b[0m \u001b[1;32mimport\u001b[0m \u001b[0mSenseHat\u001b[0m\u001b[1;33m\u001b[0m\u001b[1;33m\u001b[0m\u001b[0m\n\u001b[0m\u001b[0;32m      2\u001b[0m \u001b[1;32mdef\u001b[0m \u001b[0mProcessSenseHat\u001b[0m\u001b[1;33m(\u001b[0m\u001b[1;33m)\u001b[0m\u001b[1;33m:\u001b[0m\u001b[1;33m\u001b[0m\u001b[1;33m\u001b[0m\u001b[0m\n\u001b[0;32m      3\u001b[0m     \u001b[1;32mtry\u001b[0m\u001b[1;33m:\u001b[0m\u001b[1;33m\u001b[0m\u001b[1;33m\u001b[0m\u001b[0m\n\u001b[0;32m      4\u001b[0m         \u001b[0msense\u001b[0m \u001b[1;33m=\u001b[0m \u001b[0mSenseHat\u001b[0m\u001b[1;33m(\u001b[0m\u001b[1;33m)\u001b[0m\u001b[1;33m\u001b[0m\u001b[1;33m\u001b[0m\u001b[0m\n\u001b[0;32m      5\u001b[0m \u001b[1;33m\u001b[0m\u001b[0m\n",
      "\u001b[1;32m~\\anaconda3\\envs\\PythonAndR\\lib\\site-packages\\sense_hat\\__init__.py\u001b[0m in \u001b[0;36m<module>\u001b[1;34m\u001b[0m\n\u001b[0;32m      1\u001b[0m \u001b[1;32mfrom\u001b[0m \u001b[0m__future__\u001b[0m \u001b[1;32mimport\u001b[0m \u001b[0mabsolute_import\u001b[0m\u001b[1;33m\u001b[0m\u001b[1;33m\u001b[0m\u001b[0m\n\u001b[1;32m----> 2\u001b[1;33m \u001b[1;32mfrom\u001b[0m \u001b[1;33m.\u001b[0m\u001b[0msense_hat\u001b[0m \u001b[1;32mimport\u001b[0m \u001b[0mSenseHat\u001b[0m\u001b[1;33m,\u001b[0m \u001b[0mSenseHat\u001b[0m \u001b[1;32mas\u001b[0m \u001b[0mAstroPi\u001b[0m\u001b[1;33m\u001b[0m\u001b[1;33m\u001b[0m\u001b[0m\n\u001b[0m\u001b[0;32m      3\u001b[0m from .stick import (\n\u001b[0;32m      4\u001b[0m     \u001b[0mSenseStick\u001b[0m\u001b[1;33m,\u001b[0m\u001b[1;33m\u001b[0m\u001b[1;33m\u001b[0m\u001b[0m\n\u001b[0;32m      5\u001b[0m     \u001b[0mInputEvent\u001b[0m\u001b[1;33m,\u001b[0m\u001b[1;33m\u001b[0m\u001b[1;33m\u001b[0m\u001b[0m\n",
      "\u001b[1;32m~\\anaconda3\\envs\\PythonAndR\\lib\\site-packages\\sense_hat\\sense_hat.py\u001b[0m in \u001b[0;36m<module>\u001b[1;34m\u001b[0m\n\u001b[0;32m      8\u001b[0m \u001b[1;32mimport\u001b[0m \u001b[0mshutil\u001b[0m\u001b[1;33m\u001b[0m\u001b[1;33m\u001b[0m\u001b[0m\n\u001b[0;32m      9\u001b[0m \u001b[1;32mimport\u001b[0m \u001b[0mglob\u001b[0m\u001b[1;33m\u001b[0m\u001b[1;33m\u001b[0m\u001b[0m\n\u001b[1;32m---> 10\u001b[1;33m \u001b[1;32mimport\u001b[0m \u001b[0mRTIMU\u001b[0m  \u001b[1;31m# custom version\u001b[0m\u001b[1;33m\u001b[0m\u001b[1;33m\u001b[0m\u001b[0m\n\u001b[0m\u001b[0;32m     11\u001b[0m \u001b[1;32mimport\u001b[0m \u001b[0mpwd\u001b[0m\u001b[1;33m\u001b[0m\u001b[1;33m\u001b[0m\u001b[0m\n\u001b[0;32m     12\u001b[0m \u001b[1;32mimport\u001b[0m \u001b[0marray\u001b[0m\u001b[1;33m\u001b[0m\u001b[1;33m\u001b[0m\u001b[0m\n",
      "\u001b[1;31mModuleNotFoundError\u001b[0m: No module named 'RTIMU'"
     ]
    }
   ],
   "source": [
    "\n",
    "def ProcessSenseHat():\n",
    "    try:\n",
    "        sense = SenseHat()\n",
    "        \n",
    "        humidity =  sense.get_humidity()\n",
    "        temperature = sense.get_temperature()\n",
    "        tempFromHumidity = sense.get_temperature_from_humidity()\n",
    "        tempFromPressure =  sense.get_temperature_from_pressure()\n",
    "        pressure =  sense.get_pressure()\n",
    "        accel_only = sense.get_accelerometer()\n",
    "        accelP = accel_only.pitch\n",
    "        accelR = accel_only.roll\n",
    "        accelY = accel_only.yaw\n",
    "        raw = sense.get_accelerometer_raw()\n",
    "        accelRawX = raw.x\n",
    "        accelRawY =raw.y\n",
    "        accelRawZ = raw.z\n",
    "        compass =sense.get_compass()\n",
    "        orientation = sense.get_orientation()\n",
    "        orientationP =orientation.pitch\n",
    "        orientationR = orientation.roll\n",
    "        orientationY =orientation.yaw\n",
    "        gyro_only = sense.get_gyroscope()\n",
    "        gyroP =gyro_only.pitch\n",
    "        gyroR =gyro_only.roll\n",
    "        gyroY =gyro_only.yaw\n",
    "        data= {\n",
    "                \"humidity\": humidity,\n",
    "                \"temperature\": temperature,\n",
    "                \"tempFromHumidity\": tempFromHumidity,\n",
    "                \"tempFromPressure\": tempFromPressure,\n",
    "                \"pressure\": pressure,\n",
    "                \"accelP\": accelP,\n",
    "                \"accelR\": accelR,\n",
    "                \"accelY\": accelY,\n",
    "                \"accelRawX\": accelRawX,\n",
    "                \"accelRawY\": accelRawY,\n",
    "                \"accelRawZ\": accelRawZ,\n",
    "                \"compass\": compass,\n",
    "                \"orientationP\": orientationP,\n",
    "                \"orientationR\": orientationR,\n",
    "                \"orientationY\": orientationY,\n",
    "                \"gyroP\": gyroP,\n",
    "                \"gyroR\": gyroR,\n",
    "                \"gyroY\": gyroY  \n",
    "            }  \n",
    "        url = 'https://alddataapi.azurewebsites.net/api/Sensehats'\n",
    "        headers = {'Content-type': 'application/json', 'Accept': 'text/plain'}\n",
    "        stringData = json.dumps(data)\n",
    "        r = requests.post(url, data=json.dumps(d), headers=headers,verify=False)\n",
    "        print(r)\n",
    "    except Exception as e:\n",
    "        print(e)\n"
   ]
  },
  {
   "cell_type": "code",
   "execution_count": 8,
   "id": "157ea5a2",
   "metadata": {
    "ExecuteTime": {
     "end_time": "2022-04-13T22:04:04.826726Z",
     "start_time": "2022-04-13T22:04:04.813727Z"
    }
   },
   "outputs": [],
   "source": [
    "def GetISPInfo():\n",
    "    ipUrl = \"http://ip-api.com/json\"\n",
    "    response= json.loads(requests.get(ipUrl).content)\n",
    "    print(response)\n",
    "    print(response[\"query\"])\n",
    "    return response"
   ]
  },
  {
   "cell_type": "code",
   "execution_count": 9,
   "id": "c7ed0428",
   "metadata": {
    "ExecuteTime": {
     "end_time": "2022-04-13T22:04:04.841781Z",
     "start_time": "2022-04-13T22:04:04.828727Z"
    }
   },
   "outputs": [],
   "source": [
    "def test():\n",
    "    s = speedtest.Speedtest()\n",
    "    \n",
    "    s.get_servers()\n",
    "    s.get_best_server()\n",
    "    s.download()\n",
    "    s.upload()\n",
    "    res = s.results.dict()\n",
    "    print(res)\n",
    "    return res[\"download\"], res[\"upload\"], res[\"ping\"]"
   ]
  },
  {
   "cell_type": "code",
   "execution_count": 10,
   "id": "43915739",
   "metadata": {
    "ExecuteTime": {
     "end_time": "2022-04-13T22:04:04.857799Z",
     "start_time": "2022-04-13T22:04:04.842725Z"
    }
   },
   "outputs": [
    {
     "name": "stdout",
     "output_type": "stream",
     "text": [
      "alandesktop\n"
     ]
    }
   ],
   "source": [
    "hostname = socket.gethostname()\n",
    "print(hostname)"
   ]
  },
  {
   "cell_type": "code",
   "execution_count": 11,
   "id": "008ff3cc",
   "metadata": {
    "ExecuteTime": {
     "end_time": "2022-04-13T22:04:04.872724Z",
     "start_time": "2022-04-13T22:04:04.859722Z"
    }
   },
   "outputs": [],
   "source": [
    "def ProcessSpeedTest(linesToWrite):\n",
    "    newId = uuid.uuid4()\n",
    "    now = datetime.datetime.utcnow()\n",
    "    datepart = now.strftime(\"%Y_%m_%d\")\n",
    "    filename = \"data/speed.\" + datepart +\".csv\"\n",
    "    print(filename)\n",
    "    try:\n",
    "        ip = socket.gethostbyname(socket.gethostname())\n",
    "        ispInfo = GetISPInfo()\n",
    "        externalIp = ispInfo[\"query\"]\n",
    "        print(\"running test\")\n",
    "        d, u, p = test()\n",
    "        print(\"Download was \", round(d/1024/1024,1))\n",
    "        print(d,u,p,ip,ispInfo)\n",
    "    except  Exception as e:\n",
    "        print(\"exception \",e)\n",
    "        d = -1\n",
    "        u = -1\n",
    "        p = -1\n",
    "        ip = socket.gethostbyname(socket.gethostname())\n",
    "    try:\n",
    "        url = \"https://alddataapi.azurewebsites.net/api/Speeds\"\n",
    "        # url = \"https://localhost:44323/api/Speeds\"\n",
    "        print(url)\n",
    "\n",
    "        d = {\n",
    "            \"id\": str(newId),  \"utc\": now.isoformat() ,  \"pingMs\": int(p),  \"downloadSpeed\":int(d),  \"uploadSpeed\": int(u),  \n",
    "            \"publicIp\": externalIp,  \"isp\": \"string\",  \"lat\": ispInfo[\"lat\"],  \"lon\": ispInfo[\"lon\"],  \"data\": str(json.dumps(ispInfo))\n",
    "        }\n",
    "\n",
    "        headers = {'Content-type': 'application/json', 'Accept': 'text/plain'}\n",
    "        stringData = json.dumps(d)\n",
    "        print(stringData)\n",
    "        r = requests.post(url, data=json.dumps(d), headers=headers,verify=False)\n",
    "        print(r)\n",
    "    except Exception as e:\n",
    "        print(\"Unable to put\",e)    \n",
    "    \n",
    "    if os.path.isfile(filename):\n",
    "        print(filename + ' exists')\n",
    "    else:\n",
    "        with open(filename, 'w') as f:\n",
    "            f.write('utc,ip,download,upload,ping\\n') \n",
    "    with open(filename, 'a') as f:\n",
    "        line = '{},{},{},{},{}\\n'.format(datetime.datetime.utcnow(),ip,d, u, p)\n",
    "        linesToWrite.append(line)\n",
    "        print(line)\n",
    "        \n",
    "        try:\n",
    "            for line in linesToWrite:\n",
    "                print(\"Writing line\",line)\n",
    "                f.write(line)\n",
    "            print(\"wrote lines\")\n",
    "            linesToWrite = []\n",
    "            \n",
    "        except:\n",
    "            print(\"Unable to write line\")\n",
    "            for line in linesToWrite:\n",
    "                print (line)\n",
    "            print(\"----\")\n",
    "    return linesToWrite"
   ]
  },
  {
   "cell_type": "code",
   "execution_count": null,
   "id": "eaecbad5",
   "metadata": {
    "ExecuteTime": {
     "start_time": "2022-04-13T22:04:04.595Z"
    }
   },
   "outputs": [
    {
     "name": "stdout",
     "output_type": "stream",
     "text": [
      "ready to start work\n",
      "data/speed.2022_04_13.csv\n",
      "{'status': 'success', 'country': 'United States', 'countryCode': 'US', 'region': 'MN', 'regionName': 'Minnesota', 'city': 'Otsego', 'zip': '55330', 'lat': 45.2741, 'lon': -93.5913, 'timezone': 'America/Chicago', 'isp': 'Verizon Business', 'org': 'Verizon Business', 'as': 'AS6167 Verizon Business', 'query': '174.250.58.7'}\n",
      "174.250.58.7\n",
      "running test\n",
      "{'download': 4784563.659182558, 'upload': 634326.4317355853, 'ping': 113.247, 'server': {'url': 'http://speedtest.twinvalley.net:8080/speedtest/upload.php', 'lat': '39.3486', 'lon': '-97.4533', 'name': 'Miltonvale, KS', 'country': 'United States', 'cc': 'US', 'sponsor': 'Twin Valley Communications', 'id': '6889', 'host': 'speedtest.twinvalley.net:8080', 'd': 180.51476936241065, 'latency': 113.247}, 'timestamp': '2022-04-13T22:04:06.045755Z', 'bytes_sent': 1007616, 'bytes_received': 6352208, 'share': None, 'client': {'ip': '174.250.58.7', 'lat': '37.751', 'lon': '-97.822', 'isp': 'Verizon Wireless', 'isprating': '3.7', 'rating': '0', 'ispdlavg': '0', 'ispulavg': '0', 'loggedin': '0', 'country': 'US'}}\n",
      "Download was  4.6\n",
      "4784563.659182558 634326.4317355853 113.247 192.168.43.17 {'status': 'success', 'country': 'United States', 'countryCode': 'US', 'region': 'MN', 'regionName': 'Minnesota', 'city': 'Otsego', 'zip': '55330', 'lat': 45.2741, 'lon': -93.5913, 'timezone': 'America/Chicago', 'isp': 'Verizon Business', 'org': 'Verizon Business', 'as': 'AS6167 Verizon Business', 'query': '174.250.58.7'}\n",
      "https://alddataapi.azurewebsites.net/api/Speeds\n",
      "{\"id\": \"aeb82b3a-6cff-41c8-b309-8e543d145d95\", \"utc\": \"2022-04-13T22:04:04.899723\", \"pingMs\": 113, \"downloadSpeed\": 4784563, \"uploadSpeed\": 634326, \"publicIp\": \"174.250.58.7\", \"isp\": \"string\", \"lat\": 45.2741, \"lon\": -93.5913, \"data\": \"{\\\"status\\\": \\\"success\\\", \\\"country\\\": \\\"United States\\\", \\\"countryCode\\\": \\\"US\\\", \\\"region\\\": \\\"MN\\\", \\\"regionName\\\": \\\"Minnesota\\\", \\\"city\\\": \\\"Otsego\\\", \\\"zip\\\": \\\"55330\\\", \\\"lat\\\": 45.2741, \\\"lon\\\": -93.5913, \\\"timezone\\\": \\\"America/Chicago\\\", \\\"isp\\\": \\\"Verizon Business\\\", \\\"org\\\": \\\"Verizon Business\\\", \\\"as\\\": \\\"AS6167 Verizon Business\\\", \\\"query\\\": \\\"174.250.58.7\\\"}\"}\n"
     ]
    },
    {
     "name": "stderr",
     "output_type": "stream",
     "text": [
      "C:\\Users\\aland\\anaconda3\\envs\\PythonAndR\\lib\\site-packages\\urllib3\\connectionpool.py:1013: InsecureRequestWarning: Unverified HTTPS request is being made to host 'alddataapi.azurewebsites.net'. Adding certificate verification is strongly advised. See: https://urllib3.readthedocs.io/en/latest/advanced-usage.html#ssl-warnings\n",
      "  warnings.warn(\n"
     ]
    },
    {
     "name": "stdout",
     "output_type": "stream",
     "text": [
      "<Response [201]>\n",
      "data/speed.2022_04_13.csv exists\n",
      "2022-04-13 22:04:39.223127,192.168.43.17,{'id': 'aeb82b3a-6cff-41c8-b309-8e543d145d95', 'utc': '2022-04-13T22:04:04.899723', 'pingMs': 113, 'downloadSpeed': 4784563, 'uploadSpeed': 634326, 'publicIp': '174.250.58.7', 'isp': 'string', 'lat': 45.2741, 'lon': -93.5913, 'data': '{\"status\": \"success\", \"country\": \"United States\", \"countryCode\": \"US\", \"region\": \"MN\", \"regionName\": \"Minnesota\", \"city\": \"Otsego\", \"zip\": \"55330\", \"lat\": 45.2741, \"lon\": -93.5913, \"timezone\": \"America/Chicago\", \"isp\": \"Verizon Business\", \"org\": \"Verizon Business\", \"as\": \"AS6167 Verizon Business\", \"query\": \"174.250.58.7\"}'},634326.4317355853,113.247\n",
      "\n",
      "Writing line 2022-04-13 22:04:39.223127,192.168.43.17,{'id': 'aeb82b3a-6cff-41c8-b309-8e543d145d95', 'utc': '2022-04-13T22:04:04.899723', 'pingMs': 113, 'downloadSpeed': 4784563, 'uploadSpeed': 634326, 'publicIp': '174.250.58.7', 'isp': 'string', 'lat': 45.2741, 'lon': -93.5913, 'data': '{\"status\": \"success\", \"country\": \"United States\", \"countryCode\": \"US\", \"region\": \"MN\", \"regionName\": \"Minnesota\", \"city\": \"Otsego\", \"zip\": \"55330\", \"lat\": 45.2741, \"lon\": -93.5913, \"timezone\": \"America/Chicago\", \"isp\": \"Verizon Business\", \"org\": \"Verizon Business\", \"as\": \"AS6167 Verizon Business\", \"query\": \"174.250.58.7\"}'},634326.4317355853,113.247\n",
      "\n",
      "wrote lines\n",
      "sleeping\n"
     ]
    }
   ],
   "source": [
    "print(\"ready to start work\")\n",
    "linesToWrite = []\n",
    "while (True):    \n",
    "    try:\n",
    "        \n",
    "        linesToWrite = ProcessSpeedTest(linesToWrite)\n",
    "    except Exception as e:\n",
    "        print(\"Exception \",e)\n",
    "    print('sleeping')\n",
    "    time.sleep(600) # 60*10 - 10 minutes "
   ]
  },
  {
   "cell_type": "code",
   "execution_count": null,
   "id": "14215885",
   "metadata": {},
   "outputs": [],
   "source": []
  },
  {
   "cell_type": "code",
   "execution_count": null,
   "id": "9f8cfc9c",
   "metadata": {},
   "outputs": [],
   "source": []
  }
 ],
 "metadata": {
  "kernelspec": {
   "display_name": "Python 3",
   "language": "python",
   "name": "python3"
  },
  "language_info": {
   "codemirror_mode": {
    "name": "ipython",
    "version": 3
   },
   "file_extension": ".py",
   "mimetype": "text/x-python",
   "name": "python",
   "nbconvert_exporter": "python",
   "pygments_lexer": "ipython3",
   "version": "3.8.10"
  },
  "latex_envs": {
   "LaTeX_envs_menu_present": true,
   "autoclose": false,
   "autocomplete": true,
   "bibliofile": "biblio.bib",
   "cite_by": "apalike",
   "current_citInitial": 1,
   "eqLabelWithNumbers": true,
   "eqNumInitial": 1,
   "hotkeys": {
    "equation": "Ctrl-E",
    "itemize": "Ctrl-I"
   },
   "labels_anchors": false,
   "latex_user_defs": false,
   "report_style_numbering": false,
   "user_envs_cfg": false
  },
  "toc": {
   "base_numbering": 1,
   "nav_menu": {},
   "number_sections": true,
   "sideBar": true,
   "skip_h1_title": false,
   "title_cell": "Table of Contents",
   "title_sidebar": "Contents",
   "toc_cell": false,
   "toc_position": {},
   "toc_section_display": true,
   "toc_window_display": false
  }
 },
 "nbformat": 4,
 "nbformat_minor": 5
}
